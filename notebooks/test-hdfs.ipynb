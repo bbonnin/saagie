{
 "cells": [
  {
   "cell_type": "code",
   "execution_count": 1,
   "metadata": {
    "collapsed": false,
    "deletable": true,
    "editable": true
   },
   "outputs": [
    {
     "name": "stdout",
     "output_type": "stream",
     "text": [
      "Requirement already satisfied: hdfs in /user-home/999/.local/lib/python3.5/site-packages\r\n",
      "Requirement already satisfied: docopt in /user-home/999/.local/lib/python3.5/site-packages (from hdfs)\r\n",
      "Requirement already satisfied: requests>=2.7.0 in /opt/conda/lib/python3.5/site-packages (from hdfs)\r\n",
      "Requirement already satisfied: six>=1.9.0 in /opt/conda/lib/python3.5/site-packages (from hdfs)\r\n"
     ]
    }
   ],
   "source": [
    "!python -m pip install hdfs\n",
    "#!export PYTHONPATH=$PYTHONPATH:/user-home/999/.local/lib/python3.5\n",
    "import sys\n",
    "sys.path.append('/user-home/999/.local/lib/python3.5/site-packages')\n",
    "\n",
    "import os\n",
    "os.environ['HTTP_PROXY'] = \"http://172.17.0.1:3080\"\n"
   ]
  },
  {
   "cell_type": "code",
   "execution_count": 2,
   "metadata": {
    "collapsed": false,
    "deletable": true,
    "editable": true
   },
   "outputs": [],
   "source": [
    "\n",
    "import pandas as pd\n",
    "import os\n",
    "from hdfs import InsecureClient\n"
   ]
  },
  {
   "cell_type": "code",
   "execution_count": 3,
   "metadata": {
    "collapsed": false,
    "deletable": true,
    "editable": true
   },
   "outputs": [
    {
     "data": {
      "text/html": [
       "<div>\n",
       "<style scoped>\n",
       "    .dataframe tbody tr th:only-of-type {\n",
       "        vertical-align: middle;\n",
       "    }\n",
       "\n",
       "    .dataframe tbody tr th {\n",
       "        vertical-align: top;\n",
       "    }\n",
       "\n",
       "    .dataframe thead th {\n",
       "        text-align: right;\n",
       "    }\n",
       "</style>\n",
       "<table border=\"1\" class=\"dataframe\">\n",
       "  <thead>\n",
       "    <tr style=\"text-align: right;\">\n",
       "      <th></th>\n",
       "      <th>name</th>\n",
       "      <th>subscription_date</th>\n",
       "      <th>phone_brand</th>\n",
       "      <th>phone_model</th>\n",
       "      <th>phone</th>\n",
       "      <th>state</th>\n",
       "      <th>account_length</th>\n",
       "      <th>international_plan</th>\n",
       "      <th>voice_mail_plan</th>\n",
       "      <th>number_vmail_messages</th>\n",
       "      <th>customer_service_calls</th>\n",
       "      <th>churn</th>\n",
       "    </tr>\n",
       "  </thead>\n",
       "  <tbody>\n",
       "    <tr>\n",
       "      <th>0</th>\n",
       "      <td>Grant Rachel</td>\n",
       "      <td>01/04/2017 00:00:00</td>\n",
       "      <td>Apple</td>\n",
       "      <td>iPhone 6</td>\n",
       "      <td>(415) 382-4657</td>\n",
       "      <td>Kansas</td>\n",
       "      <td>128</td>\n",
       "      <td>False</td>\n",
       "      <td>True</td>\n",
       "      <td>25</td>\n",
       "      <td>1</td>\n",
       "      <td>False</td>\n",
       "    </tr>\n",
       "    <tr>\n",
       "      <th>1</th>\n",
       "      <td>Paterson Joshua</td>\n",
       "      <td>26/03/2017 00:00:00</td>\n",
       "      <td>LG</td>\n",
       "      <td>G2</td>\n",
       "      <td>(415) 371-7191</td>\n",
       "      <td>Ohio</td>\n",
       "      <td>107</td>\n",
       "      <td>False</td>\n",
       "      <td>True</td>\n",
       "      <td>26</td>\n",
       "      <td>1</td>\n",
       "      <td>False</td>\n",
       "    </tr>\n",
       "    <tr>\n",
       "      <th>2</th>\n",
       "      <td>Dickens Lillian</td>\n",
       "      <td>23/03/2016</td>\n",
       "      <td>Samsung</td>\n",
       "      <td>Galaxy Note 4</td>\n",
       "      <td>(415) 358-1921</td>\n",
       "      <td>New Jersey</td>\n",
       "      <td>137</td>\n",
       "      <td>False</td>\n",
       "      <td>False</td>\n",
       "      <td>0</td>\n",
       "      <td>0</td>\n",
       "      <td>False</td>\n",
       "    </tr>\n",
       "    <tr>\n",
       "      <th>3</th>\n",
       "      <td>Wright Lucas</td>\n",
       "      <td>02/11/2016 00:00:00</td>\n",
       "      <td>Nokia</td>\n",
       "      <td>Lumia1020</td>\n",
       "      <td>(408) 375-9999</td>\n",
       "      <td>Ohio</td>\n",
       "      <td>84</td>\n",
       "      <td>True</td>\n",
       "      <td>False</td>\n",
       "      <td>0</td>\n",
       "      <td>2</td>\n",
       "      <td>False</td>\n",
       "    </tr>\n",
       "    <tr>\n",
       "      <th>4</th>\n",
       "      <td>MacDonald Warren</td>\n",
       "      <td>22/08/2015</td>\n",
       "      <td>Moto</td>\n",
       "      <td>X Play</td>\n",
       "      <td>415 330-6626</td>\n",
       "      <td>Oklahoma</td>\n",
       "      <td>75</td>\n",
       "      <td>True</td>\n",
       "      <td>False</td>\n",
       "      <td>0</td>\n",
       "      <td>3</td>\n",
       "      <td>False</td>\n",
       "    </tr>\n",
       "  </tbody>\n",
       "</table>\n",
       "</div>"
      ],
      "text/plain": [
       "               name    subscription_date phone_brand    phone_model  \\\n",
       "0      Grant Rachel  01/04/2017 00:00:00       Apple       iPhone 6   \n",
       "1   Paterson Joshua  26/03/2017 00:00:00          LG             G2   \n",
       "2   Dickens Lillian           23/03/2016     Samsung  Galaxy Note 4   \n",
       "3      Wright Lucas  02/11/2016 00:00:00       Nokia      Lumia1020   \n",
       "4  MacDonald Warren           22/08/2015        Moto         X Play   \n",
       "\n",
       "            phone       state  account_length  international_plan  \\\n",
       "0  (415) 382-4657      Kansas             128               False   \n",
       "1  (415) 371-7191        Ohio             107               False   \n",
       "2  (415) 358-1921  New Jersey             137               False   \n",
       "3  (408) 375-9999        Ohio              84                True   \n",
       "4    415 330-6626    Oklahoma              75                True   \n",
       "\n",
       "   voice_mail_plan  number_vmail_messages  customer_service_calls  churn  \n",
       "0             True                     25                       1  False  \n",
       "1             True                     26                       1  False  \n",
       "2            False                      0                       0  False  \n",
       "3            False                      0                       2  False  \n",
       "4            False                      0                       3  False  "
      ]
     },
     "execution_count": 3,
     "metadata": {},
     "output_type": "execute_result"
    }
   ],
   "source": [
    "\n",
    "customers_details = pd.read_csv('../datasets/customer_details_noquotes.csv')\n",
    "customers_details.head()\n"
   ]
  },
  {
   "cell_type": "code",
   "execution_count": 4,
   "metadata": {
    "collapsed": false,
    "deletable": true,
    "editable": true
   },
   "outputs": [],
   "source": [
    "\n",
    "client_hdfs = InsecureClient('http://192.168.54.10:50070', user='bruno.bonnin')\n",
    "#client_hdfs = InsecureClient('http://172.17.0.4:50070', user='cloudera')\n"
   ]
  },
  {
   "cell_type": "code",
   "execution_count": 5,
   "metadata": {
    "collapsed": false,
    "deletable": true,
    "editable": true
   },
   "outputs": [],
   "source": [
    "\n",
    "filename = '/user/bruno.bonnin/customer_details.csv'\n",
    "#filename = '/user/cloudera/customer_details.csv'\n",
    "with client_hdfs.write(filename, encoding = 'utf-8', overwrite = True) as writer:\n",
    "    customers_details.to_csv(writer)\n",
    "    "
   ]
  },
  {
   "cell_type": "code",
   "execution_count": 6,
   "metadata": {
    "collapsed": false,
    "deletable": true,
    "editable": true
   },
   "outputs": [
    {
     "data": {
      "text/html": [
       "<div>\n",
       "<style scoped>\n",
       "    .dataframe tbody tr th:only-of-type {\n",
       "        vertical-align: middle;\n",
       "    }\n",
       "\n",
       "    .dataframe tbody tr th {\n",
       "        vertical-align: top;\n",
       "    }\n",
       "\n",
       "    .dataframe thead th {\n",
       "        text-align: right;\n",
       "    }\n",
       "</style>\n",
       "<table border=\"1\" class=\"dataframe\">\n",
       "  <thead>\n",
       "    <tr style=\"text-align: right;\">\n",
       "      <th></th>\n",
       "      <th>name</th>\n",
       "      <th>subscription_date</th>\n",
       "      <th>phone_brand</th>\n",
       "      <th>phone_model</th>\n",
       "      <th>phone</th>\n",
       "      <th>state</th>\n",
       "      <th>account_length</th>\n",
       "      <th>international_plan</th>\n",
       "      <th>voice_mail_plan</th>\n",
       "      <th>number_vmail_messages</th>\n",
       "      <th>customer_service_calls</th>\n",
       "      <th>churn</th>\n",
       "    </tr>\n",
       "  </thead>\n",
       "  <tbody>\n",
       "    <tr>\n",
       "      <th>0</th>\n",
       "      <td>Grant Rachel</td>\n",
       "      <td>01/04/2017 00:00:00</td>\n",
       "      <td>Apple</td>\n",
       "      <td>iPhone 6</td>\n",
       "      <td>(415) 382-4657</td>\n",
       "      <td>Kansas</td>\n",
       "      <td>128</td>\n",
       "      <td>False</td>\n",
       "      <td>True</td>\n",
       "      <td>25</td>\n",
       "      <td>1</td>\n",
       "      <td>False</td>\n",
       "    </tr>\n",
       "    <tr>\n",
       "      <th>1</th>\n",
       "      <td>Paterson Joshua</td>\n",
       "      <td>26/03/2017 00:00:00</td>\n",
       "      <td>LG</td>\n",
       "      <td>G2</td>\n",
       "      <td>(415) 371-7191</td>\n",
       "      <td>Ohio</td>\n",
       "      <td>107</td>\n",
       "      <td>False</td>\n",
       "      <td>True</td>\n",
       "      <td>26</td>\n",
       "      <td>1</td>\n",
       "      <td>False</td>\n",
       "    </tr>\n",
       "    <tr>\n",
       "      <th>2</th>\n",
       "      <td>Dickens Lillian</td>\n",
       "      <td>23/03/2016</td>\n",
       "      <td>Samsung</td>\n",
       "      <td>Galaxy Note 4</td>\n",
       "      <td>(415) 358-1921</td>\n",
       "      <td>New Jersey</td>\n",
       "      <td>137</td>\n",
       "      <td>False</td>\n",
       "      <td>False</td>\n",
       "      <td>0</td>\n",
       "      <td>0</td>\n",
       "      <td>False</td>\n",
       "    </tr>\n",
       "  </tbody>\n",
       "</table>\n",
       "</div>"
      ],
      "text/plain": [
       "              name    subscription_date phone_brand    phone_model  \\\n",
       "0     Grant Rachel  01/04/2017 00:00:00       Apple       iPhone 6   \n",
       "1  Paterson Joshua  26/03/2017 00:00:00          LG             G2   \n",
       "2  Dickens Lillian           23/03/2016     Samsung  Galaxy Note 4   \n",
       "\n",
       "            phone       state  account_length  international_plan  \\\n",
       "0  (415) 382-4657      Kansas             128               False   \n",
       "1  (415) 371-7191        Ohio             107               False   \n",
       "2  (415) 358-1921  New Jersey             137               False   \n",
       "\n",
       "   voice_mail_plan  number_vmail_messages  customer_service_calls  churn  \n",
       "0             True                     25                       1  False  \n",
       "1             True                     26                       1  False  \n",
       "2            False                      0                       0  False  "
      ]
     },
     "execution_count": 6,
     "metadata": {},
     "output_type": "execute_result"
    }
   ],
   "source": [
    "with client_hdfs.read('/user/bruno.bonnin/customer_details.csv', encoding = 'utf-8') as reader:\n",
    "    df = pd.read_csv(reader, index_col=0)\n",
    "df[0:3]"
   ]
  },
  {
   "cell_type": "code",
   "execution_count": 9,
   "metadata": {
    "collapsed": false,
    "deletable": true,
    "editable": true
   },
   "outputs": [
    {
     "ename": "NameError",
     "evalue": "name 'df' is not defined",
     "output_type": "error",
     "traceback": [
      "\u001b[0;31m---------------------------------------------------------------------------\u001b[0m",
      "\u001b[0;31mNameError\u001b[0m                                 Traceback (most recent call last)",
      "\u001b[0;32m<ipython-input-9-ae19262e358c>\u001b[0m in \u001b[0;36m<module>\u001b[0;34m()\u001b[0m\n\u001b[0;32m----> 1\u001b[0;31m \u001b[0;32mdel\u001b[0m \u001b[0mdf\u001b[0m\u001b[0;34m\u001b[0m\u001b[0m\n\u001b[0m\u001b[1;32m      2\u001b[0m \u001b[0;32mdel\u001b[0m \u001b[0mcustomers_details\u001b[0m\u001b[0;34m\u001b[0m\u001b[0m\n",
      "\u001b[0;31mNameError\u001b[0m: name 'df' is not defined"
     ]
    }
   ],
   "source": [
    "del df\n",
    "del customers_details"
   ]
  }
 ],
 "metadata": {
  "anaconda-cloud": {},
  "kernelspec": {
   "display_name": "Python [default]",
   "language": "python",
   "name": "python3"
  },
  "language_info": {
   "codemirror_mode": {
    "name": "ipython",
    "version": 3
   },
   "file_extension": ".py",
   "mimetype": "text/x-python",
   "name": "python",
   "nbconvert_exporter": "python",
   "pygments_lexer": "ipython3",
   "version": "3.5.2"
  }
 },
 "nbformat": 4,
 "nbformat_minor": 2
}
