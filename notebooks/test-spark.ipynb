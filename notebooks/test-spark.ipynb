{
 "cells": [
  {
   "cell_type": "code",
   "execution_count": null,
   "metadata": {
    "collapsed": false,
    "deletable": true,
    "editable": true
   },
   "outputs": [],
   "source": [
    "!pip install --user py4j\n",
    "!pip install --user pyspark"
   ]
  },
  {
   "cell_type": "code",
   "execution_count": 5,
   "metadata": {
    "collapsed": false,
    "deletable": true,
    "editable": true
   },
   "outputs": [],
   "source": [
    "\n",
    "import pyspark\n",
    "from pyspark.sql import SQLContext\n",
    "from pyspark.sql import SparkSession\n",
    "import os\n",
    "import pandas as pd\n",
    "\n",
    "os.environ['HTTP_PROXY'] = \"http://172.17.0.1:3080\"\n"
   ]
  },
  {
   "cell_type": "code",
   "execution_count": 3,
   "metadata": {
    "collapsed": false,
    "deletable": true,
    "editable": true
   },
   "outputs": [],
   "source": [
    "\n",
    "spark = SparkSession \\\n",
    "    .builder \\\n",
    "    .appName(\"dsx-test\") \\\n",
    "    .config(\"spark.driver.allowMultipleContexts\",  True) \\\n",
    "    .getOrCreate()\n"
   ]
  },
  {
   "cell_type": "code",
   "execution_count": 10,
   "metadata": {
    "collapsed": false,
    "deletable": true,
    "editable": true
   },
   "outputs": [],
   "source": [
    "\n",
    "customers = pd.read_csv('../datasets/customer_details_noquotes.csv', dtype='object')\n",
    "#customers.info()\n",
    "\n",
    "from pyspark.sql.types import *\n",
    "schema = StructType([\n",
    "    StructField(\"name\", StringType(), True),\n",
    "    StructField(\"subscription_date\", StringType(), True),\n",
    "    StructField(\"phone_brand\", StringType(), True),\n",
    "    StructField(\"phone_model\", StringType(), True),\n",
    "    StructField(\"phone\", StringType(), True),\n",
    "    StructField(\"state\", StringType(), True),\n",
    "    StructField(\"account_length\", StringType(), True),\n",
    "    StructField(\"international_plan\", StringType(), True),\n",
    "    StructField(\"voice_mail_plan\", StringType(), True),\n",
    "    StructField(\"number_vmail_messages\", StringType(), True),\n",
    "    StructField(\"customer_service_calls\", StringType(), True),\n",
    "    StructField(\"churn\", StringType(), True)])\n",
    "\n",
    "customers = spark.createDataFrame(customers, schema)\n"
   ]
  },
  {
   "cell_type": "code",
   "execution_count": 11,
   "metadata": {
    "collapsed": false,
    "deletable": true,
    "editable": true
   },
   "outputs": [
    {
     "name": "stdout",
     "output_type": "stream",
     "text": [
      "+---------------+-------------------+-----------+-------------+--------------+------+--------------+------------------+---------------+---------------------+----------------------+-----+\n",
      "|           name|  subscription_date|phone_brand|  phone_model|         phone| state|account_length|international_plan|voice_mail_plan|number_vmail_messages|customer_service_calls|churn|\n",
      "+---------------+-------------------+-----------+-------------+--------------+------+--------------+------------------+---------------+---------------------+----------------------+-----+\n",
      "|   Grant Rachel|01/04/2017 00:00:00|      Apple|     iPhone 6|(415) 382-4657|Kansas|           128|             false|           true|                   25|                     1|false|\n",
      "| Vaughan Audrey|14/07/2016 00:00:00|      Apple|iPhone 6 Plus|(408) 350-8884| Idaho|            85|             false|           true|                   27|                     1|false|\n",
      "|Parsons Cameron|01/09/2015 00:00:00|      Apple| iPhone 6Plus|(510) 410-7789|Hawaii|            49|             false|          false|                    0|                     1|false|\n",
      "+---------------+-------------------+-----------+-------------+--------------+------+--------------+------------------+---------------+---------------------+----------------------+-----+\n",
      "only showing top 3 rows\n",
      "\n"
     ]
    }
   ],
   "source": [
    "\n",
    "customers_apple = customers.filter(customers.phone_brand == 'Apple')\n",
    "customers_apple.show(3)\n"
   ]
  },
  {
   "cell_type": "code",
   "execution_count": 12,
   "metadata": {
    "collapsed": false,
    "deletable": true,
    "editable": true,
    "scrolled": false
   },
   "outputs": [
    {
     "name": "stdout",
     "output_type": "stream",
     "text": [
      "+------------+---------------------+\n",
      "|       state|count(DISTINCT phone)|\n",
      "+------------+---------------------+\n",
      "|        Utah|                   72|\n",
      "|      Hawaii|                   53|\n",
      "|   Minnesota|                   84|\n",
      "|        Ohio|                   78|\n",
      "|          DC|                   54|\n",
      "|      Oregon|                   78|\n",
      "|    Arkansas|                   54|\n",
      "|       Texas|                   72|\n",
      "|North Dakota|                   62|\n",
      "|Pennsylvania|                   45|\n",
      "| Connecticut|                   74|\n",
      "|    Nebraska|                   60|\n",
      "|     Vermont|                   72|\n",
      "|      Nevada|                   66|\n",
      "|  Washington|                   67|\n",
      "|    Illinois|                   58|\n",
      "|    Oklahoma|                   61|\n",
      "|    Delaware|                   60|\n",
      "|      Alaska|                   51|\n",
      "|  New Mexico|                   62|\n",
      "+------------+---------------------+\n",
      "only showing top 20 rows\n",
      "\n"
     ]
    }
   ],
   "source": [
    "\n",
    "from pyspark.sql.functions import countDistinct\n",
    "\n",
    "by_states = customers.groupBy('state').agg(countDistinct('phone'))\n",
    "by_states.show()\n"
   ]
  },
  {
   "cell_type": "code",
   "execution_count": 15,
   "metadata": {
    "collapsed": false,
    "deletable": true,
    "editable": true
   },
   "outputs": [],
   "source": [
    "\n",
    "from hdfs import InsecureClient\n",
    "\n",
    "client_hdfs = InsecureClient('http://192.168.54.10:50070', user='bruno.bonnin')\n",
    "\n",
    "filename = '/user/bruno.bonnin/by_states.csv'\n",
    "#filename = '/user/cloudera/customer_details.csv'\n",
    "with client_hdfs.write(filename, encoding = 'utf-8', overwrite = True) as writer:\n",
    "    by_states.toPandas().to_csv(writer)\n",
    "    "
   ]
  }
 ],
 "metadata": {
  "anaconda-cloud": {},
  "kernelspec": {
   "display_name": "Python [conda root]",
   "language": "python",
   "name": "conda-root-py"
  },
  "language_info": {
   "codemirror_mode": {
    "name": "ipython",
    "version": 3
   },
   "file_extension": ".py",
   "mimetype": "text/x-python",
   "name": "python",
   "nbconvert_exporter": "python",
   "pygments_lexer": "ipython3",
   "version": "3.5.2"
  }
 },
 "nbformat": 4,
 "nbformat_minor": 2
}
